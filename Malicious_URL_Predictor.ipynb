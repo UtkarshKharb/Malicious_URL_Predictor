{
 "cells": [
  {
   "cell_type": "code",
   "execution_count": 9,
   "metadata": {
    "colab": {
     "base_uri": "https://localhost:8080/",
     "height": 68
    },
    "colab_type": "code",
    "id": "z3llO4xb-eTK",
    "outputId": "92e8e42c-0aca-4b64-83d4-e455ee5792a6"
   },
   "outputs": [],
   "source": [
    "import pandas as pd\n",
    "import numpy as np\n",
    "import matplotlib.pyplot as plt\n",
    "import random\n",
    "import re\n",
    "import seaborn as sns\n",
    "\n",
    "%matplotlib inline\n",
    "\n",
    "from sklearn.model_selection import train_test_split\n",
    "from sklearn.feature_extraction.text import TfidfVectorizer, CountVectorizer\n",
    "\n",
    "from sklearn.linear_model import LogisticRegression\n",
    "from sklearn.naive_bayes import MultinomialNB\n",
    "\n",
    "from sklearn.metrics import confusion_matrix, classification_report\n",
    "\n"
   ]
  },
  {
   "cell_type": "code",
   "execution_count": 10,
   "metadata": {
    "colab": {
     "base_uri": "https://localhost:8080/",
     "height": 85
    },
    "colab_type": "code",
    "id": "Z6Cdtwmmd3w2",
    "outputId": "e0f700c8-105b-4b24-bf04-eb36c97fd762"
   },
   "outputs": [],
   "source": [
    "url_df = pd.read_csv('/Users/utkarshkharb/Desktop/Malicious URLs.csv')\n",
    "\n"
   ]
  },
  {
   "cell_type": "code",
   "execution_count": 12,
   "metadata": {
    "colab": {
     "base_uri": "https://localhost:8080/",
     "height": 1105
    },
    "colab_type": "code",
    "id": "RiEuaSS_8DuT",
    "outputId": "275802ed-c996-4417-bc1a-5a87c15d7239",
    "scrolled": true
   },
   "outputs": [
    {
     "data": {
      "text/html": [
       "<div>\n",
       "<style scoped>\n",
       "    .dataframe tbody tr th:only-of-type {\n",
       "        vertical-align: middle;\n",
       "    }\n",
       "\n",
       "    .dataframe tbody tr th {\n",
       "        vertical-align: top;\n",
       "    }\n",
       "\n",
       "    .dataframe thead th {\n",
       "        text-align: right;\n",
       "    }\n",
       "</style>\n",
       "<table border=\"1\" class=\"dataframe\">\n",
       "  <thead>\n",
       "    <tr style=\"text-align: right;\">\n",
       "      <th></th>\n",
       "      <th>URLs</th>\n",
       "      <th>Class</th>\n",
       "    </tr>\n",
       "  </thead>\n",
       "  <tbody>\n",
       "    <tr>\n",
       "      <th>0</th>\n",
       "      <td>freebase.com/view/en/bob_sirois</td>\n",
       "      <td>good</td>\n",
       "    </tr>\n",
       "    <tr>\n",
       "      <th>1</th>\n",
       "      <td>en.wikipedia.org/wiki/Joie_Lee</td>\n",
       "      <td>good</td>\n",
       "    </tr>\n",
       "    <tr>\n",
       "      <th>2</th>\n",
       "      <td>pipl.com/directory/people/Rejean/Beaudin</td>\n",
       "      <td>good</td>\n",
       "    </tr>\n",
       "    <tr>\n",
       "      <th>3</th>\n",
       "      <td>flickr.com/photos/teneyck/sets/72157610336209297/</td>\n",
       "      <td>good</td>\n",
       "    </tr>\n",
       "    <tr>\n",
       "      <th>4</th>\n",
       "      <td>ussoccer.com/News/Federation-Services/2009/06/...</td>\n",
       "      <td>good</td>\n",
       "    </tr>\n",
       "    <tr>\n",
       "      <th>...</th>\n",
       "      <td>...</td>\n",
       "      <td>...</td>\n",
       "    </tr>\n",
       "    <tr>\n",
       "      <th>420459</th>\n",
       "      <td>ourorigins.org/genealogielistfirstname.aspx?an...</td>\n",
       "      <td>good</td>\n",
       "    </tr>\n",
       "    <tr>\n",
       "      <th>420460</th>\n",
       "      <td>simira.co.id/cifk/live.com/Account_Verified.htm</td>\n",
       "      <td>bad</td>\n",
       "    </tr>\n",
       "    <tr>\n",
       "      <th>420461</th>\n",
       "      <td>kstatesports.com/sports/w-baskbl/spec-rel/ksu-...</td>\n",
       "      <td>good</td>\n",
       "    </tr>\n",
       "    <tr>\n",
       "      <th>420462</th>\n",
       "      <td>vh1.com/video/living-colour/9128/cult-of-perso...</td>\n",
       "      <td>good</td>\n",
       "    </tr>\n",
       "    <tr>\n",
       "      <th>420463</th>\n",
       "      <td>absoluteastronomy.com/topics/SummerSlam_(1990)</td>\n",
       "      <td>good</td>\n",
       "    </tr>\n",
       "  </tbody>\n",
       "</table>\n",
       "<p>420464 rows × 2 columns</p>\n",
       "</div>"
      ],
      "text/plain": [
       "                                                     URLs Class\n",
       "0                         freebase.com/view/en/bob_sirois  good\n",
       "1                          en.wikipedia.org/wiki/Joie_Lee  good\n",
       "2                pipl.com/directory/people/Rejean/Beaudin  good\n",
       "3       flickr.com/photos/teneyck/sets/72157610336209297/  good\n",
       "4       ussoccer.com/News/Federation-Services/2009/06/...  good\n",
       "...                                                   ...   ...\n",
       "420459  ourorigins.org/genealogielistfirstname.aspx?an...  good\n",
       "420460    simira.co.id/cifk/live.com/Account_Verified.htm   bad\n",
       "420461  kstatesports.com/sports/w-baskbl/spec-rel/ksu-...  good\n",
       "420462  vh1.com/video/living-colour/9128/cult-of-perso...  good\n",
       "420463     absoluteastronomy.com/topics/SummerSlam_(1990)  good\n",
       "\n",
       "[420464 rows x 2 columns]"
      ]
     },
     "execution_count": 12,
     "metadata": {},
     "output_type": "execute_result"
    }
   ],
   "source": [
    "url_df"
   ]
  },
  {
   "cell_type": "code",
   "execution_count": 19,
   "metadata": {},
   "outputs": [],
   "source": [
    "# good stands for a benign url while bad for malicious url"
   ]
  },
  {
   "cell_type": "code",
   "execution_count": 13,
   "metadata": {},
   "outputs": [
    {
     "name": "stdout",
     "output_type": "stream",
     "text": [
      "<class 'pandas.core.frame.DataFrame'>\n",
      "RangeIndex: 420464 entries, 0 to 420463\n",
      "Data columns (total 2 columns):\n",
      " #   Column  Non-Null Count   Dtype \n",
      "---  ------  --------------   ----- \n",
      " 0   URLs    420464 non-null  object\n",
      " 1   Class   420464 non-null  object\n",
      "dtypes: object(2)\n",
      "memory usage: 6.4+ MB\n"
     ]
    }
   ],
   "source": [
    "url_df.info()"
   ]
  },
  {
   "cell_type": "code",
   "execution_count": 14,
   "metadata": {},
   "outputs": [
    {
     "data": {
      "text/html": [
       "<div>\n",
       "<style scoped>\n",
       "    .dataframe tbody tr th:only-of-type {\n",
       "        vertical-align: middle;\n",
       "    }\n",
       "\n",
       "    .dataframe tbody tr th {\n",
       "        vertical-align: top;\n",
       "    }\n",
       "\n",
       "    .dataframe thead th {\n",
       "        text-align: right;\n",
       "    }\n",
       "</style>\n",
       "<table border=\"1\" class=\"dataframe\">\n",
       "  <thead>\n",
       "    <tr style=\"text-align: right;\">\n",
       "      <th></th>\n",
       "      <th>URLs</th>\n",
       "      <th>Class</th>\n",
       "    </tr>\n",
       "  </thead>\n",
       "  <tbody>\n",
       "    <tr>\n",
       "      <th>count</th>\n",
       "      <td>420464</td>\n",
       "      <td>420464</td>\n",
       "    </tr>\n",
       "    <tr>\n",
       "      <th>unique</th>\n",
       "      <td>411247</td>\n",
       "      <td>2</td>\n",
       "    </tr>\n",
       "    <tr>\n",
       "      <th>top</th>\n",
       "      <td>103.234.36.75/rd927.exe</td>\n",
       "      <td>good</td>\n",
       "    </tr>\n",
       "    <tr>\n",
       "      <th>freq</th>\n",
       "      <td>27</td>\n",
       "      <td>344821</td>\n",
       "    </tr>\n",
       "  </tbody>\n",
       "</table>\n",
       "</div>"
      ],
      "text/plain": [
       "                           URLs   Class\n",
       "count                    420464  420464\n",
       "unique                   411247       2\n",
       "top     103.234.36.75/rd927.exe    good\n",
       "freq                         27  344821"
      ]
     },
     "execution_count": 14,
     "metadata": {},
     "output_type": "execute_result"
    }
   ],
   "source": [
    "url_df.describe()"
   ]
  },
  {
   "cell_type": "code",
   "execution_count": 17,
   "metadata": {
    "colab": {
     "base_uri": "https://localhost:8080/",
     "height": 68
    },
    "colab_type": "code",
    "id": "hWVv0Lzl8UXi",
    "outputId": "c839d484-e4a5-44a9-e164-c19f0965d6e5"
   },
   "outputs": [],
   "source": [
    "test_percentage = .3\n",
    "train_df, test_df = train_test_split(url_df, test_size=test_percentage, random_state=42)\n",
    "\n",
    "labels = train_df['Class']\n",
    "test_labels = test_df['Class']\n"
   ]
  },
  {
   "cell_type": "code",
   "execution_count": 18,
   "metadata": {},
   "outputs": [
    {
     "data": {
      "text/html": [
       "<div>\n",
       "<style scoped>\n",
       "    .dataframe tbody tr th:only-of-type {\n",
       "        vertical-align: middle;\n",
       "    }\n",
       "\n",
       "    .dataframe tbody tr th {\n",
       "        vertical-align: top;\n",
       "    }\n",
       "\n",
       "    .dataframe thead th {\n",
       "        text-align: right;\n",
       "    }\n",
       "</style>\n",
       "<table border=\"1\" class=\"dataframe\">\n",
       "  <thead>\n",
       "    <tr style=\"text-align: right;\">\n",
       "      <th></th>\n",
       "      <th>URLs</th>\n",
       "      <th>Class</th>\n",
       "    </tr>\n",
       "  </thead>\n",
       "  <tbody>\n",
       "    <tr>\n",
       "      <th>95566</th>\n",
       "      <td>en.wikipedia.org/wiki/Ash_Wednesday_(film)</td>\n",
       "      <td>good</td>\n",
       "    </tr>\n",
       "    <tr>\n",
       "      <th>227724</th>\n",
       "      <td>checkoutmycards.com/Players/Baseball/O</td>\n",
       "      <td>good</td>\n",
       "    </tr>\n",
       "    <tr>\n",
       "      <th>214714</th>\n",
       "      <td>hotsprings.org/</td>\n",
       "      <td>good</td>\n",
       "    </tr>\n",
       "    <tr>\n",
       "      <th>177373</th>\n",
       "      <td>en.wikipedia.org/wiki/Saint-Michel_(Montreal_M...</td>\n",
       "      <td>good</td>\n",
       "    </tr>\n",
       "    <tr>\n",
       "      <th>359072</th>\n",
       "      <td>armchairgm.wikia.com/1966_NCAA_Men%27s_Divisio...</td>\n",
       "      <td>good</td>\n",
       "    </tr>\n",
       "    <tr>\n",
       "      <th>...</th>\n",
       "      <td>...</td>\n",
       "      <td>...</td>\n",
       "    </tr>\n",
       "    <tr>\n",
       "      <th>259178</th>\n",
       "      <td>ech.case.edu/ech-cgi/article.pl?id=RNCO1</td>\n",
       "      <td>good</td>\n",
       "    </tr>\n",
       "    <tr>\n",
       "      <th>365838</th>\n",
       "      <td>mysanantonio.com/sports/college_sports/big_12/...</td>\n",
       "      <td>good</td>\n",
       "    </tr>\n",
       "    <tr>\n",
       "      <th>131932</th>\n",
       "      <td>princegeorgecitizen.com/article/20110505/PRINC...</td>\n",
       "      <td>good</td>\n",
       "    </tr>\n",
       "    <tr>\n",
       "      <th>146867</th>\n",
       "      <td>photography-now.com/artists/K06981.html</td>\n",
       "      <td>good</td>\n",
       "    </tr>\n",
       "    <tr>\n",
       "      <th>121958</th>\n",
       "      <td>myspace.com/bearsfaninohio</td>\n",
       "      <td>good</td>\n",
       "    </tr>\n",
       "  </tbody>\n",
       "</table>\n",
       "<p>294324 rows × 2 columns</p>\n",
       "</div>"
      ],
      "text/plain": [
       "                                                     URLs Class\n",
       "95566          en.wikipedia.org/wiki/Ash_Wednesday_(film)  good\n",
       "227724             checkoutmycards.com/Players/Baseball/O  good\n",
       "214714                                    hotsprings.org/  good\n",
       "177373  en.wikipedia.org/wiki/Saint-Michel_(Montreal_M...  good\n",
       "359072  armchairgm.wikia.com/1966_NCAA_Men%27s_Divisio...  good\n",
       "...                                                   ...   ...\n",
       "259178           ech.case.edu/ech-cgi/article.pl?id=RNCO1  good\n",
       "365838  mysanantonio.com/sports/college_sports/big_12/...  good\n",
       "131932  princegeorgecitizen.com/article/20110505/PRINC...  good\n",
       "146867            photography-now.com/artists/K06981.html  good\n",
       "121958                         myspace.com/bearsfaninohio  good\n",
       "\n",
       "[294324 rows x 2 columns]"
      ]
     },
     "execution_count": 18,
     "metadata": {},
     "output_type": "execute_result"
    }
   ],
   "source": [
    "train_df"
   ]
  },
  {
   "cell_type": "code",
   "execution_count": 20,
   "metadata": {
    "colab": {
     "base_uri": "https://localhost:8080/",
     "height": 662
    },
    "colab_type": "code",
    "id": "sb9tYHkw9JTW",
    "outputId": "cec64e4a-8de4-40f1-f84f-c551f825b2cb"
   },
   "outputs": [
    {
     "name": "stdout",
     "output_type": "stream",
     "text": [
      "Size of the data: \n",
      "Training Samples: 294324\n",
      "Testing Samples: 126140\n"
     ]
    },
    {
     "data": {
      "image/png": "[encoded data removed]",
      "text/plain": [
       "<Figure size 432x288 with 1 Axes>"
      ]
     },
     "metadata": {
      "needs_background": "light"
     },
     "output_type": "display_data"
    },
    {
     "data": {
      "image/png": "[encoded data removed]",
      "text/plain": [
       "<Figure size 432x288 with 1 Axes>"
      ]
     },
     "metadata": {
      "needs_background": "light"
     },
     "output_type": "display_data"
    }
   ],
   "source": [
    "print(\"Size of the data: \")\n",
    "print(\"Training Samples:\", len(train_df))\n",
    "print(\"Testing Samples:\", len(test_df))\n",
    "\n",
    "count_train_classes = pd.value_counts(train_df['Class'])\n",
    "count_train_classes.plot(kind='bar', fontsize=16)\n",
    "plt.title(\"Class Count (Training)\", fontsize=20)\n",
    "plt.xticks(rotation='horizontal')\n",
    "plt.xlabel(\"Class\", fontsize=20)\n",
    "plt.ylabel(\"Class Count\", fontsize=20)\n",
    "\n",
    "plt.show()\n",
    "\n",
    "count_test_classes = pd.value_counts(test_df['Class'])\n",
    "count_test_classes.plot(kind='bar', fontsize=16, colormap='ocean')\n",
    "plt.title(\"Class Count (Testing)\", fontsize=20)\n",
    "plt.xticks(rotation='horizontal')\n",
    "plt.xlabel(\"Class\", fontsize=20)\n",
    "plt.ylabel(\"Class Count\", fontsize=20)\n",
    "\n",
    "plt.show()"
   ]
  },
  {
   "cell_type": "code",
   "execution_count": 23,
   "metadata": {},
   "outputs": [],
   "source": [
    "# Hence we have more no of good urls than bad"
   ]
  },
  {
   "cell_type": "code",
   "execution_count": 24,
   "metadata": {},
   "outputs": [],
   "source": [
    "# The classes here are somewhat imbalanced. This will be addressed later."
   ]
  },
  {
   "cell_type": "code",
   "execution_count": 22,
   "metadata": {},
   "outputs": [],
   "source": [
    "# Tokenization : Create our tokenizer by splitting URLs into their domains, subdomains, directories, files, and extensions.\n",
    "# Rules for Tokenization:"
   ]
  },
  {
   "cell_type": "code",
   "execution_count": 25,
   "metadata": {
    "colab": {
     "base_uri": "https://localhost:8080/",
     "height": 68
    },
    "colab_type": "code",
    "id": "qp30x8Ropo_P",
    "outputId": "b91e7158-828f-494d-fe3d-73fe48d94de2"
   },
   "outputs": [],
   "source": [
    "def tokenizer(url):\n",
    "  # Split by slash (/) and dash (-)\n",
    "  tokens = re.split('[/-]', url)\n",
    "  \n",
    "  for i in tokens:\n",
    "    # Include the splits extensions and subdomains\n",
    "    if i.find(\".\") >= 0:\n",
    "      dot_split = i.split('.')\n",
    "      \n",
    "      # Remove .com and www. since they're too common\n",
    "      if \"com\" in dot_split:\n",
    "        dot_split.remove(\"com\")\n",
    "        \n",
    "      if \"www\" in dot_split:\n",
    "        dot_split.remove(\"www\")\n",
    "      \n",
    "      tokens += dot_split\n",
    "      \n",
    "  return tokens"
   ]
  },
  {
   "cell_type": "code",
   "execution_count": 30,
   "metadata": {},
   "outputs": [],
   "source": [
    "test_url = train_df['URLs'][259178]"
   ]
  },
  {
   "cell_type": "code",
   "execution_count": 31,
   "metadata": {},
   "outputs": [
    {
     "name": "stdout",
     "output_type": "stream",
     "text": [
      "ech.case.edu/ech-cgi/article.pl?id=RNCO1\n",
      "['ech.case.edu', 'ech', 'cgi', 'article.pl?id=RNCO1', 'ech', 'case', 'edu', 'article', 'pl?id=RNCO1']\n"
     ]
    }
   ],
   "source": [
    "print(test_url)\n",
    "print(tokenizer(test_url))"
   ]
  },
  {
   "cell_type": "code",
   "execution_count": 32,
   "metadata": {
    "colab": {
     "base_uri": "https://localhost:8080/",
     "height": 173
    },
    "colab_type": "code",
    "id": "7-ZpjlF47Coq",
    "outputId": "a1216ec4-f46b-4ccc-fc89-2ee5c61d9fcf"
   },
   "outputs": [
    {
     "name": "stdout",
     "output_type": "stream",
     "text": [
      "ussoccer.com/News/Federation-Services/2009/06/University-Of-Miami-President-Donna-E-Shalala-Joins-Team-To-Bring-FIFA-World-Cup-To-United-States-In.aspx\n",
      "\n",
      "- Tokenized Output -\n",
      "\n",
      "['ussoccer.com', 'News', 'Federation', 'Services', '2009', '06', 'University', 'Of', 'Miami', 'President', 'Donna', 'E', 'Shalala', 'Joins', 'Team', 'To', 'Bring', 'FIFA', 'World', 'Cup', 'To', 'United', 'States', 'In.aspx', 'ussoccer', 'In', 'aspx']\n"
     ]
    }
   ],
   "source": [
    "test_url = train_df['URLs'][4]\n",
    "print(test_url)\n",
    "\n",
    "# Tokenize test URL\n",
    "print(\"\\n- Tokenized Output -\\n\")\n",
    "tokenized_url = tokenizer(test_url)\n",
    "print(tokenized_url)"
   ]
  },
  {
   "cell_type": "code",
   "execution_count": 33,
   "metadata": {
    "colab": {
     "base_uri": "https://localhost:8080/",
     "height": 102
    },
    "colab_type": "code",
    "id": "XAfNGyoMCRu7",
    "outputId": "25e2d95a-a099-4e26-b33d-a5d71079a5df"
   },
   "outputs": [],
   "source": [
    "cVec = CountVectorizer(tokenizer=tokenizer)\n",
    "count_X = cVec.fit_transform(train_df['URLs'])\n",
    "\n",
    "\n",
    "tVec = TfidfVectorizer(tokenizer=tokenizer)\n",
    "tfidf_X = tVec.fit_transform(train_df['URLs'])\n"
   ]
  },
  {
   "cell_type": "code",
   "execution_count": 34,
   "metadata": {
    "colab": {
     "base_uri": "https://localhost:8080/",
     "height": 459
    },
    "colab_type": "code",
    "id": "G4LjPdSfEP5G",
    "outputId": "c47b29ae-e4dc-483f-d378-dd3c444075e0"
   },
   "outputs": [
    {
     "name": "stdout",
     "output_type": "stream",
     "text": [
      "1 - ussoccer.com\n",
      "1 - News\n",
      "1 - Federation\n",
      "1 - Services\n",
      "1 - 2009\n",
      "1 - 06\n",
      "1 - University\n",
      "1 - Of\n",
      "1 - Miami\n",
      "1 - President\n",
      "1 - Donna\n",
      "1 - E\n",
      "1 - Shalala\n",
      "1 - Joins\n",
      "1 - Team\n",
      "2 - To\n",
      "1 - Bring\n",
      "1 - FIFA\n",
      "1 - World\n",
      "1 - Cup\n",
      "1 - United\n",
      "1 - States\n",
      "1 - In.aspx\n",
      "1 - ussoccer\n",
      "1 - In\n",
      "1 - aspx\n"
     ]
    }
   ],
   "source": [
    "\n",
    "for i in list(dict.fromkeys(tokenized_url)):\n",
    "  print(\"{} - {}\".format(tokenized_url.count(i), i))"
   ]
  },
  {
   "cell_type": "code",
   "execution_count": 35,
   "metadata": {
    "colab": {
     "base_uri": "https://localhost:8080/",
     "height": 1054
    },
    "colab_type": "code",
    "id": "FjguwTHgDLBQ",
    "outputId": "6b90e03f-db85-40cf-f2a6-652c7a4e05bf"
   },
   "outputs": [
    {
     "name": "stdout",
     "output_type": "stream",
     "text": [
      "  (0, 24)\t1\n",
      "  (0, 13)\t1\n",
      "  (0, 7)\t1\n",
      "  (0, 16)\t1\n",
      "  (0, 1)\t1\n",
      "  (0, 0)\t1\n",
      "  (0, 22)\t1\n",
      "  (0, 14)\t1\n",
      "  (0, 12)\t1\n",
      "  (0, 15)\t1\n",
      "  (0, 5)\t1\n",
      "  (0, 6)\t1\n",
      "  (0, 17)\t1\n",
      "  (0, 11)\t1\n",
      "  (0, 19)\t1\n",
      "  (0, 20)\t2\n",
      "  (0, 3)\t1\n",
      "  (0, 8)\t1\n",
      "  (0, 25)\t1\n",
      "  (0, 4)\t1\n",
      "  (0, 21)\t1\n",
      "  (0, 18)\t1\n",
      "  (0, 10)\t1\n",
      "  (0, 23)\t1\n",
      "  (0, 9)\t1\n",
      "  (0, 2)\t1\n",
      "  (0, 2)\t0.18569533817705186\n",
      "  (0, 9)\t0.18569533817705186\n",
      "  (0, 23)\t0.18569533817705186\n",
      "  (0, 10)\t0.18569533817705186\n",
      "  (0, 18)\t0.18569533817705186\n",
      "  (0, 21)\t0.18569533817705186\n",
      "  (0, 4)\t0.18569533817705186\n",
      "  (0, 25)\t0.18569533817705186\n",
      "  (0, 8)\t0.18569533817705186\n",
      "  (0, 3)\t0.18569533817705186\n",
      "  (0, 20)\t0.3713906763541037\n",
      "  (0, 19)\t0.18569533817705186\n",
      "  (0, 11)\t0.18569533817705186\n",
      "  (0, 17)\t0.18569533817705186\n",
      "  (0, 6)\t0.18569533817705186\n",
      "  (0, 5)\t0.18569533817705186\n",
      "  (0, 15)\t0.18569533817705186\n",
      "  (0, 12)\t0.18569533817705186\n",
      "  (0, 14)\t0.18569533817705186\n",
      "  (0, 22)\t0.18569533817705186\n",
      "  (0, 0)\t0.18569533817705186\n",
      "  (0, 1)\t0.18569533817705186\n",
      "  (0, 16)\t0.18569533817705186\n",
      "  (0, 7)\t0.18569533817705186\n",
      "  (0, 13)\t0.18569533817705186\n",
      "  (0, 24)\t0.18569533817705186\n"
     ]
    }
   ],
   "source": [
    "example_cVec = CountVectorizer(tokenizer=tokenizer)\n",
    "example_X = example_cVec.fit_transform([test_url])\n",
    "\n",
    "print(example_X)\n",
    "\n",
    "example_tVec = TfidfVectorizer(tokenizer=tokenizer)\n",
    "example_X = example_tVec.fit_transform([test_url])\n",
    "\n",
    "print(example_X)"
   ]
  },
  {
   "cell_type": "code",
   "execution_count": 36,
   "metadata": {
    "colab": {
     "base_uri": "https://localhost:8080/",
     "height": 102
    },
    "colab_type": "code",
    "id": "gYfQhPItHBjz",
    "outputId": "99ba8071-3fae-4771-85d5-1778360e5114"
   },
   "outputs": [],
   "source": [
    "\n",
    "test_count_X = cVec.transform(test_df['URLs'])\n",
    "\n",
    "test_tfidf_X = tVec.transform(test_df['URLs'])\n"
   ]
  },
  {
   "cell_type": "code",
   "execution_count": 37,
   "metadata": {
    "colab": {
     "base_uri": "https://localhost:8080/",
     "height": 68
    },
    "colab_type": "code",
    "id": "32pzJ3naFICU",
    "outputId": "d8ee487f-d003-47bd-c802-28314c1d9cf7"
   },
   "outputs": [],
   "source": [
    "def generate_report(cmatrix, score, creport):\n",
    "  \n",
    "  \n",
    "  # Generate confusion matrix heatmap\n",
    "  plt.figure(figsize=(5,5))\n",
    "  sns.heatmap(cmatrix, \n",
    "              annot=True, \n",
    "              fmt=\"d\", \n",
    "              linewidths=.5, \n",
    "              square = True, \n",
    "              cmap = 'Blues', \n",
    "              annot_kws={\"size\": 16}, \n",
    "              xticklabels=['bad', 'good'],\n",
    "              yticklabels=['bad', 'good'])\n",
    "\n",
    "  plt.xticks(rotation='horizontal', fontsize=16)\n",
    "  plt.yticks(rotation='horizontal', fontsize=16)\n",
    "  plt.xlabel('Actual Label', size=20);\n",
    "  plt.ylabel('Predicted Label', size=20);\n",
    "\n",
    "  title = 'Accuracy Score: {0:.4f}'.format(score)\n",
    "  plt.title(title, size = 20);\n",
    "\n",
    "  # Display classification report and confusion matrix\n",
    "  print(creport)\n",
    "  plt.show()\n",
    "  \n"
   ]
  },
  {
   "cell_type": "code",
   "execution_count": 38,
   "metadata": {
    "colab": {
     "base_uri": "https://localhost:8080/",
     "height": 531
    },
    "colab_type": "code",
    "id": "N_8Ii5LnFUMy",
    "outputId": "effbd015-10a9-4de1-fed4-6051a9e532b7"
   },
   "outputs": [
    {
     "name": "stdout",
     "output_type": "stream",
     "text": [
      "              precision    recall  f1-score   support\n",
      "\n",
      "         bad       0.99      0.81      0.89     22561\n",
      "        good       0.96      1.00      0.98    103579\n",
      "\n",
      "    accuracy                           0.97    126140\n",
      "   macro avg       0.98      0.91      0.94    126140\n",
      "weighted avg       0.97      0.97      0.96    126140\n",
      "\n"
     ]
    },
    {
     "data": {
      "image/png": "[encoded data removed]",
      "text/plain": [
       "<Figure size 360x360 with 2 Axes>"
      ]
     },
     "metadata": {
      "needs_background": "light"
     },
     "output_type": "display_data"
    }
   ],
   "source": [
    "# Multinomial Naive Bayesian with TF-IDF\n",
    "\n",
    "# Train the model\n",
    "mnb_tfidf = MultinomialNB()\n",
    "mnb_tfidf.fit(tfidf_X, labels)\n",
    "\n",
    "\n",
    "# Test the mode (score, predictions, confusion matrix, classification report)\n",
    "score_mnb_tfidf = mnb_tfidf.score(test_tfidf_X, test_labels)\n",
    "predictions_mnb_tfidf = mnb_tfidf.predict(test_tfidf_X)\n",
    "cmatrix_mnb_tfidf = confusion_matrix( test_labels,predictions_mnb_tfidf)\n",
    "creport_mnb_tfidf = classification_report( test_labels,predictions_mnb_tfidf)\n",
    "\n",
    "generate_report(cmatrix_mnb_tfidf, score_mnb_tfidf, creport_mnb_tfidf)"
   ]
  },
  {
   "cell_type": "code",
   "execution_count": 39,
   "metadata": {
    "colab": {
     "base_uri": "https://localhost:8080/",
     "height": 531
    },
    "colab_type": "code",
    "id": "qOl4-P-vHy76",
    "outputId": "d0451ed3-4c1c-4af0-fec7-ad8171393e08"
   },
   "outputs": [
    {
     "name": "stdout",
     "output_type": "stream",
     "text": [
      "              precision    recall  f1-score   support\n",
      "\n",
      "         bad       0.97      0.89      0.93     22561\n",
      "        good       0.98      0.99      0.99    103579\n",
      "\n",
      "    accuracy                           0.98    126140\n",
      "   macro avg       0.98      0.94      0.96    126140\n",
      "weighted avg       0.98      0.98      0.98    126140\n",
      "\n"
     ]
    },
    {
     "data": {
      "image/png": "[encoded data removed]",
      "text/plain": [
       "<Figure size 360x360 with 2 Axes>"
      ]
     },
     "metadata": {
      "needs_background": "light"
     },
     "output_type": "display_data"
    }
   ],
   "source": [
    "# Multinomial Naive Bayesian with Count Vectorizer\n",
    "\n",
    "# Train the model\n",
    "mnb_count = MultinomialNB()\n",
    "mnb_count.fit(count_X, labels)\n",
    "\n",
    "\n",
    "# Test the mode (score, predictions, confusion matrix, classification report)\n",
    "score_mnb_count = mnb_count.score(test_count_X, test_labels)\n",
    "predictions_mnb_count = mnb_count.predict(test_count_X)\n",
    "cmatrix_mnb_count = confusion_matrix( test_labels, predictions_mnb_count)\n",
    "creport_mnb_count = classification_report( test_labels, predictions_mnb_count)\n",
    "\n",
    "generate_report(cmatrix_mnb_count, score_mnb_count, creport_mnb_count)"
   ]
  },
  {
   "cell_type": "code",
   "execution_count": 40,
   "metadata": {
    "colab": {
     "base_uri": "https://localhost:8080/",
     "height": 585
    },
    "colab_type": "code",
    "id": "C5x6-hlkItbB",
    "outputId": "73365b7d-1197-40fb-b0fb-063f838fba04"
   },
   "outputs": [
    {
     "name": "stderr",
     "output_type": "stream",
     "text": [
      "/anaconda3/lib/python3.8/site-packages/sklearn/linear_model/_logistic.py:762: ConvergenceWarning: lbfgs failed to converge (status=1):\n",
      "STOP: TOTAL NO. of ITERATIONS REACHED LIMIT.\n",
      "\n",
      "Increase the number of iterations (max_iter) or scale the data as shown in:\n",
      "    https://scikit-learn.org/stable/modules/preprocessing.html\n",
      "Please also refer to the documentation for alternative solver options:\n",
      "    https://scikit-learn.org/stable/modules/linear_model.html#logistic-regression\n",
      "  n_iter_i = _check_optimize_result(\n"
     ]
    },
    {
     "name": "stdout",
     "output_type": "stream",
     "text": [
      "              precision    recall  f1-score   support\n",
      "\n",
      "         bad       0.96      0.83      0.89     22561\n",
      "        good       0.96      0.99      0.98    103579\n",
      "\n",
      "    accuracy                           0.96    126140\n",
      "   macro avg       0.96      0.91      0.93    126140\n",
      "weighted avg       0.96      0.96      0.96    126140\n",
      "\n"
     ]
    },
    {
     "data": {
      "image/png": "[encoded data removed]",
      "text/plain": [
       "<Figure size 360x360 with 2 Axes>"
      ]
     },
     "metadata": {
      "needs_background": "light"
     },
     "output_type": "display_data"
    }
   ],
   "source": [
    "# Logistic Regression with TF-IDF\n",
    "\n",
    "# Train the model\n",
    "lgs_tfidf = LogisticRegression(solver='lbfgs')\n",
    "lgs_tfidf.fit(tfidf_X, labels)\n",
    "\n",
    "\n",
    "# Test the mode (score, predictions, confusion matrix, classification report)\n",
    "score_lgs_tfidf = lgs_tfidf.score(test_tfidf_X, test_labels)\n",
    "predictions_lgs_tfidf = lgs_tfidf.predict(test_tfidf_X)\n",
    "cmatrix_lgs_tfidf = confusion_matrix(test_labels, predictions_lgs_tfidf)\n",
    "creport_lgs_tfidf = classification_report(test_labels,predictions_lgs_tfidf)\n",
    "\n",
    "generate_report(cmatrix_lgs_tfidf, score_lgs_tfidf, creport_lgs_tfidf)"
   ]
  },
  {
   "cell_type": "code",
   "execution_count": 41,
   "metadata": {
    "colab": {
     "base_uri": "https://localhost:8080/",
     "height": 585
    },
    "colab_type": "code",
    "id": "2OTvv0tLItrM",
    "outputId": "15fe5cbd-e7bf-4f78-b716-266cf8f6da53"
   },
   "outputs": [
    {
     "name": "stderr",
     "output_type": "stream",
     "text": [
      "/anaconda3/lib/python3.8/site-packages/sklearn/linear_model/_logistic.py:762: ConvergenceWarning: lbfgs failed to converge (status=1):\n",
      "STOP: TOTAL NO. of ITERATIONS REACHED LIMIT.\n",
      "\n",
      "Increase the number of iterations (max_iter) or scale the data as shown in:\n",
      "    https://scikit-learn.org/stable/modules/preprocessing.html\n",
      "Please also refer to the documentation for alternative solver options:\n",
      "    https://scikit-learn.org/stable/modules/linear_model.html#logistic-regression\n",
      "  n_iter_i = _check_optimize_result(\n"
     ]
    },
    {
     "name": "stdout",
     "output_type": "stream",
     "text": [
      "              precision    recall  f1-score   support\n",
      "\n",
      "         bad       0.97      0.87      0.92     22561\n",
      "        good       0.97      0.99      0.98    103579\n",
      "\n",
      "    accuracy                           0.97    126140\n",
      "   macro avg       0.97      0.93      0.95    126140\n",
      "weighted avg       0.97      0.97      0.97    126140\n",
      "\n"
     ]
    },
    {
     "data": {
      "image/png": "[encoded data removed]",
      "text/plain": [
       "<Figure size 360x360 with 2 Axes>"
      ]
     },
     "metadata": {
      "needs_background": "light"
     },
     "output_type": "display_data"
    }
   ],
   "source": [
    "# Logistic Regression with Count Vectorizer\n",
    "\n",
    "# Train the model\n",
    "lgs_count = LogisticRegression(solver='lbfgs')\n",
    "lgs_count.fit(count_X, labels)\n",
    "\n",
    "\n",
    "# Test the mode (score, predictions, confusion matrix, classification report)\n",
    "score_lgs_count = lgs_count.score(test_count_X, test_labels)\n",
    "predictions_lgs_count = lgs_count.predict(test_count_X)\n",
    "cmatrix_lgs_count = confusion_matrix(test_labels, predictions_lgs_count)\n",
    "creport_lgs_count = classification_report(test_labels,predictions_lgs_count)\n",
    "\n",
    "generate_report(cmatrix_lgs_count, score_lgs_count, creport_lgs_count)"
   ]
  },
  {
   "cell_type": "code",
   "execution_count": 42,
   "metadata": {
    "colab": {},
    "colab_type": "code",
    "id": "5opD_sHAJX7s"
   },
   "outputs": [],
   "source": [
    "# adjusting the hyperparameters"
   ]
  },
  {
   "cell_type": "code",
   "execution_count": 43,
   "metadata": {},
   "outputs": [
    {
     "name": "stdout",
     "output_type": "stream",
     "text": [
      "              precision    recall  f1-score   support\n",
      "\n",
      "         bad       0.98      0.91      0.94     22561\n",
      "        good       0.98      1.00      0.99    103579\n",
      "\n",
      "    accuracy                           0.98    126140\n",
      "   macro avg       0.98      0.95      0.96    126140\n",
      "weighted avg       0.98      0.98      0.98    126140\n",
      "\n"
     ]
    },
    {
     "data": {
      "image/png": "[encoded data removed]",
      "text/plain": [
       "<Figure size 360x360 with 2 Axes>"
      ]
     },
     "metadata": {
      "needs_background": "light"
     },
     "output_type": "display_data"
    }
   ],
   "source": [
    "# Multinomial Naive Bayesian with TF-IDF\n",
    "\n",
    "# Train the model\n",
    "mnb_tfidf = MultinomialNB(alpha=0.1)\n",
    "mnb_tfidf.fit(tfidf_X, labels)\n",
    "\n",
    "\n",
    "# Test the mode (score, predictions, confusion matrix, classification report)\n",
    "score_mnb_tfidf = mnb_tfidf.score(test_tfidf_X, test_labels)\n",
    "predictions_mnb_tfidf = mnb_tfidf.predict(test_tfidf_X)\n",
    "cmatrix_mnb_tfidf = confusion_matrix( test_labels,predictions_mnb_tfidf)\n",
    "creport_mnb_tfidf = classification_report( test_labels,predictions_mnb_tfidf)\n",
    "\n",
    "generate_report(cmatrix_mnb_tfidf, score_mnb_tfidf, creport_mnb_tfidf)"
   ]
  },
  {
   "cell_type": "code",
   "execution_count": 45,
   "metadata": {},
   "outputs": [
    {
     "name": "stdout",
     "output_type": "stream",
     "text": [
      "              precision    recall  f1-score   support\n",
      "\n",
      "         bad       0.96      0.92      0.94     22561\n",
      "        good       0.98      0.99      0.99    103579\n",
      "\n",
      "    accuracy                           0.98    126140\n",
      "   macro avg       0.97      0.95      0.96    126140\n",
      "weighted avg       0.98      0.98      0.98    126140\n",
      "\n"
     ]
    },
    {
     "data": {
      "image/png": "[encoded data removed]",
      "text/plain": [
       "<Figure size 360x360 with 2 Axes>"
      ]
     },
     "metadata": {
      "needs_background": "light"
     },
     "output_type": "display_data"
    }
   ],
   "source": [
    "# Multinomial Naive Bayesian with Count Vectorizer\n",
    "\n",
    "# Train the model\n",
    "mnb_count = MultinomialNB(alpha=0.1)\n",
    "mnb_count.fit(count_X, labels)\n",
    "\n",
    "\n",
    "# Test the mode (score, predictions, confusion matrix, classification report)\n",
    "score_mnb_count = mnb_count.score(test_count_X, test_labels)\n",
    "predictions_mnb_count = mnb_count.predict(test_count_X)\n",
    "cmatrix_mnb_count = confusion_matrix( test_labels, predictions_mnb_count)\n",
    "creport_mnb_count = classification_report( test_labels, predictions_mnb_count)\n",
    "\n",
    "generate_report(cmatrix_mnb_count, score_mnb_count, creport_mnb_count)"
   ]
  },
  {
   "cell_type": "code",
   "execution_count": 46,
   "metadata": {},
   "outputs": [],
   "source": [
    "# Hence Multinomial Naive Bayes with Tfidf with alpha=0.1 is the best model we have made"
   ]
  },
  {
   "cell_type": "code",
   "execution_count": 48,
   "metadata": {},
   "outputs": [],
   "source": [
    "# The recall and precision in the models is fairly good, which means that having unbalanced classes is having no effect on the model. I think this is because in nlp we are measuring the impact of words in the corpus and not just of singular rigid instances. "
   ]
  },
  {
   "cell_type": "code",
   "execution_count": null,
   "metadata": {},
   "outputs": [],
   "source": []
  }
 ],
 "metadata": {
  "colab": {
   "collapsed_sections": [],
   "name": "Workbook (complete): Malicious URL Predictor",
   "provenance": [],
   "version": "0.3.2"
  },
  "kernelspec": {
   "display_name": "Python 3",
   "language": "python",
   "name": "python3"
  },
  "language_info": {
   "codemirror_mode": {
    "name": "ipython",
    "version": 3
   },
   "file_extension": ".py",
   "mimetype": "text/x-python",
   "name": "python",
   "nbconvert_exporter": "python",
   "pygments_lexer": "ipython3",
   "version": "3.8.5"
  }
 },
 "nbformat": 4,
 "nbformat_minor": 1
}
